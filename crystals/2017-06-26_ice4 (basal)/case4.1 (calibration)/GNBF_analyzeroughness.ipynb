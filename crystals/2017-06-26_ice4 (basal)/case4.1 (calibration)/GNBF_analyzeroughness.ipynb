{
 "cells": [
  {
   "cell_type": "code",
   "execution_count": 1,
   "metadata": {},
   "outputs": [],
   "source": [
    "# Generic imports\n",
    "from mpl_toolkits.mplot3d import Axes3D\n",
    "import numpy as np\n",
    "import matplotlib.pyplot as plt\n",
    "import matplotlib\n",
    "import PIL\n",
    "import os\n",
    "from scipy.special import gamma\n",
    "import scipy.optimize as optimization\n",
    "\n",
    "# Local imports\n",
    "import sys\n",
    "sys.path.append('../../../')\n",
    "import stlstuff as sls\n",
    "import imagestuff as ims\n",
    "import statstuff as sts\n",
    "\n",
    "# # Development\n",
    "# from importlib import reload\n",
    "# reload(sts)"
   ]
  },
  {
   "cell_type": "code",
   "execution_count": 2,
   "metadata": {},
   "outputs": [],
   "source": [
    "%matplotlib notebook"
   ]
  },
  {
   "cell_type": "code",
   "execution_count": 3,
   "metadata": {},
   "outputs": [],
   "source": [
    "# Graphics parameters\n",
    "fontsize = 10\n",
    "linewidth = 2\n",
    "matplotlib.rcParams.update({'font.size': fontsize})"
   ]
  },
  {
   "cell_type": "code",
   "execution_count": 4,
   "metadata": {},
   "outputs": [
    {
     "name": "stdout",
     "output_type": "stream",
     "text": [
      "0.23456790123456783\n"
     ]
    }
   ],
   "source": [
    "# Set defaults for the analysis\n",
    "accumlist = [] # This will be all segments unless overridden \n",
    "\n",
    "# Only turn this on if we want PDF in terms of Z^2\n",
    "IwantZ2intervals = True\n",
    "Iwantlogrintervals = True\n",
    "\n",
    "if (IwantZ2intervals):\n",
    "    numforZ2hist = 25\n",
    "    Z2minforhist = 1e-4; #print(Z2minforhist)\n",
    "    rmaxforZ2hist = 0.1; Z2maxforhist = 1/(1-rmaxforZ2hist)**2-1; print(Z2maxforhist)\n",
    "    Z2maxforhist = 0.25; #print(Z2maxforhist)\n",
    "    \n",
    "if (Iwantlogrintervals):\n",
    "    numforhist = 50\n",
    "    rminforhist = 1e-7\n",
    "    rmaxforhist = .6"
   ]
  },
  {
   "cell_type": "code",
   "execution_count": 5,
   "metadata": {},
   "outputs": [
    {
     "name": "stdout",
     "output_type": "stream",
     "text": [
      "/Users/katiegray/ice4/crystals/2017-06-26_ice4 (basal)/case4.1 (calibration)\n",
      "2017-06-26_ice4 (basal)/case4.1 (calibration)\n"
     ]
    }
   ],
   "source": [
    "# Specify the file we want to analyze (and output file name)\n",
    "pwd = os.getcwd()\n",
    "print(pwd)\n",
    "startpos = pwd.find('crystals/')\n",
    "case = pwd[startpos+9:]; print(case)\n",
    "Segmentroot='Segments'"
   ]
  },
  {
   "cell_type": "code",
   "execution_count": null,
   "metadata": {},
   "outputs": [],
   "source": [
    "# Derivative names\n",
    "Compressedfilename = Segmentroot+'retrieved.npz'; print (Compressedfilename)\n",
    "Roughnessfile = Segmentroot+'roughness.jpg'; print(Roughnessfile)\n",
    "RoughnessZ2file = Segmentroot+'roughnessZ2.jpg'; print(RoughnessZ2file)\n",
    "RoughnessZ2datafile = Segmentroot+'roughnessZ2.txt'; print(RoughnessZ2datafile)\n",
    "Roughnessdatafile=Segmentroot+'roughness.txt'; print(Roughnessdatafile)\n",
    "Roughnessfitfile=Segmentroot+'roughnessfit.txt'; print(Roughnessfitfile)"
   ]
  },
  {
   "cell_type": "code",
   "execution_count": null,
   "metadata": {},
   "outputs": [],
   "source": [
    "# Get the retrieved surface\n",
    "npzfile = np.load(Compressedfilename)\n",
    "imageroot = np.array_str(npzfile['imageroot'])\n",
    "dx,dy,cA,cB,cC,cD,Filename = ims.getc2('', 'SEMimages/', imageroot)\n",
    "print(\"dx and dy\", dx, dy)"
   ]
  },
  {
   "cell_type": "code",
   "execution_count": null,
   "metadata": {},
   "outputs": [],
   "source": [
    "# Setting up windows for where the data are, and the accumulation array\n",
    "nx1list = npzfile['nx1list']\n",
    "nx2list = npzfile['nx2list']\n",
    "ny1list = npzfile['ny1list']\n",
    "ny2list = npzfile['ny2list']\n",
    "solution = npzfile['solution']\n",
    "nsegments = len(nx1list)\n",
    "if len(accumlist)==0:\n",
    "    accumlist = [i for i in range(nsegments)] \n",
    "print('Completed',case) #Prints loading but I wanted to know when it was done."
   ]
  },
  {
   "cell_type": "code",
   "execution_count": null,
   "metadata": {},
   "outputs": [],
   "source": [
    "# Graph the segments\n",
    "im = PIL.Image.open(Filename)\n",
    "ny_im,nx_im = np.shape(im)\n",
    "draw = PIL.ImageDraw.Draw(im)\n",
    "for i in range(nsegments):\n",
    "    nx1 = nx1list[i]\n",
    "    nx2 = nx2list[i]\n",
    "    ny1 = ny1list[i]\n",
    "    ny2 = ny2list[i]\n",
    "    ims.myrectangle(draw,(nx1,ny1),(nx2,ny2),2)\n",
    "    \n",
    "plt.imshow(np.asarray(im), cmap = 'Greys_r', vmin = 0, vmax = 255)"
   ]
  },
  {
   "cell_type": "code",
   "execution_count": null,
   "metadata": {},
   "outputs": [],
   "source": [
    "# Get the histogram as a function of log(r)\n",
    "if (Iwantlogrintervals):\n",
    "    newrbins=np.geomspace(rminforhist,rmaxforhist,num=numforhist)\n",
    "    hbins_total, rbinsW = sts.makehistogram(\\\n",
    "                                 nsegments,nx1list,nx2list,ny1list,ny2list,dx,dy,solution,\\\n",
    "                                 accumlist, newrbins)"
   ]
  },
  {
   "cell_type": "code",
   "execution_count": null,
   "metadata": {},
   "outputs": [],
   "source": [
    "# Analysis of this histogram\n",
    "if (Iwantlogrintervals): \n",
    "    # Get the best Weibull fit\n",
    "    x0 = np.array([0.1])\n",
    "    fsolution, fsolutionerror = optimization.curve_fit(sts.pGaussianr, rbinsW, hbins_total, x0)\n",
    "    best_sigmaG = fsolution[0]; \n",
    "    print('Gaussian: best_sigma = ', best_sigmaG)\n",
    "\n",
    "    # Get the best Weibull fit\n",
    "    x0 = np.array([0.1,1.0])\n",
    "    fsolution, fsolutionerror = optimization.curve_fit(sts.pWeibullr, rbinsW, hbins_total, x0)\n",
    "    best_sigmaW = fsolution[0]; \n",
    "    print('Weibull: best_sigma = ', best_sigmaW)\n",
    "    best_eta = fsolution[1]\n",
    "    print('Weibull: best_eta = ', best_eta)\n",
    "\n",
    "    # Get the best match for a two-gaussian fit\n",
    "    x0 = np.array([0.09,0.24,.5])\n",
    "    fsolution, fsolutionerror = optimization.curve_fit(sts.bimodalfunc, rbinsW, hbins_total, x0)\n",
    "    best_sigma1 = fsolution[0]\n",
    "    best_N1 = 1-fsolution[2]\n",
    "    print('Bimodal: best_sigma1,N1 = ', best_sigma1,best_N1)\n",
    "    best_sigma2 = fsolution[1]\n",
    "    best_N2 = fsolution[2]\n",
    "    print('Bimodal: best_sigma2,N2 = ', best_sigma2,best_N2)\n",
    "    \n",
    "        # Get the best-fit distributions\n",
    "    hbins_gauss = sts.pWeibullr(rbinsW, best_sigmaG, 1)\n",
    "    R2_G = sts.R_squar(hbins_total,hbins_gauss)\n",
    "    print('R^2 (Gauss) = ', R2_G)\n",
    "    hbins_bestfit = sts.pWeibullr(rbinsW, best_sigmaW, best_eta)\n",
    "    R2_W = sts.R_squar(hbins_total,hbins_bestfit)\n",
    "    print('R^2 (Weibull) = ', R2_W)\n",
    "    hbins_bimodal = sts.bimodalfunc(rbinsW, best_sigma1, best_sigma2, best_N2)\n",
    "    R2_B = sts.R_squar(hbins_total,hbins_bimodal)\n",
    "    print('R^2 (Bimodal) = ', R2_B)\n",
    "    \n",
    "    # Labels for graph\n",
    "    label_obs = 'obs'\n",
    "    label_Gauss = 'Gaussian: ' \\\n",
    "                    +'$\\sigma$='+str(np.round(best_sigmaG*100)/100) + '\\n'\\\n",
    "                    +'$R^2=$'+str(np.round(R2_G*1000)/1000) \n",
    "    label_Weibull = 'Weibull: ' \\\n",
    "                    +'$\\sigma_W$='+str(np.round(best_sigmaW*100)/100) \\\n",
    "                    +', ' +'$\\eta_W$='+str(np.round(best_eta*100)/100) + '\\n'\\\n",
    "                    +'$R^2=$'+str(np.round(R2_W*1000)/1000) \n",
    "\n",
    "    label_bimodal = 'Bimodal: ' + '\\n'\\\n",
    "                    +'$\\sigma_1$='+str(np.round(best_sigma1*100)/100) \\\n",
    "                    +', '+'$N_1$='+str(np.round(best_N1*100)/100) + '\\n'\\\n",
    "                    +'$\\sigma_2$='+str(np.round(best_sigma2*100)/100) \\\n",
    "                    +', '+'$N_2$='+str(np.round(best_N2*100)/100) + '\\n'\\\n",
    "                    +'$R^2=$'+str(np.round(R2_B*1000)/1000) \n",
    "\n",
    "    # Graph\n",
    "    plt.figure()\n",
    "    plt.semilogx(rbinsW,hbins_total,'ok',markersize=5, label=label_obs)\n",
    "    plt.semilogx(rbinsW,hbins_gauss,'--g',linewidth=2, label=label_Gauss)\n",
    "    plt.semilogx(rbinsW,hbins_bestfit,'-b',linewidth=2, label=label_Weibull)\n",
    "    plt.semilogx(rbinsW,hbins_bimodal,'-.m',linewidth=2, label=label_bimodal)\n",
    "    plt.grid(True)\n",
    "    plt.xlabel(r'$r$',fontsize=fontsize)\n",
    "    plt.ylabel(r'$r\\rho(r)$',fontsize=fontsize)\n",
    "    plt.legend(loc='upper left')\n",
    "    plt.title(case,fontsize=fontsize)\n",
    "    \n",
    "    plt.savefig(Roughnessfile)\n",
    "    dummy= [rbinsW,hbins_total]\n",
    "    np.savetxt(Roughnessdatafile,dummy)\n",
    "    cfile = open(Roughnessfitfile,'w')\n",
    "    cfile.write('&Roughness_Best_Fit\\n')\n",
    "    cfile.write(case+'\\n\\n'+'Gaussian fit:'+'\\n')\n",
    "    cfile.write('   '+'sigma =' +str(best_sigmaG)+'\\n')\n",
    "    cfile.write('   '+'R^2 ='+str(R2_G)+'\\n\\n'+'Weibull fit:'+'\\n')\n",
    "    cfile.write('   '+'sigma =' +str(best_sigmaW)+'\\n')\n",
    "    cfile.write('   '+'eta =' +str(best_eta)+'\\n')\n",
    "    cfile.write('   '+'R^2 ='+str(R2_W)+'\\n\\n'+'Bimodal fit:'+'\\n')\n",
    "    cfile.write('   '+'sigma1 =' +str(best_sigma1)+'\\n')\n",
    "    cfile.write('   '+'N1 =' +str(best_N1)+'\\n')\n",
    "    cfile.write('   '+'sigma2 =' +str(best_sigma2)+'\\n')\n",
    "    cfile.write('   '+'N2 =' +str(best_N2)+'\\n')\n",
    "    cfile.write('   '+'R^2 ='+str(R2_B)+'\\n')\n",
    "    cfile.close()"
   ]
  },
  {
   "cell_type": "code",
   "execution_count": null,
   "metadata": {},
   "outputs": [],
   "source": [
    "# Get the histogram as a function of Z2\n",
    "if (IwantZ2intervals):\n",
    "\n",
    "    # This calculates a normalized observed PDF as a function of Z^2 (rho(Z^2))\n",
    "    newZ2bins = np.linspace(Z2minforhist,Z2maxforhist,numforZ2hist)\n",
    "    newrbins = 1-(1/(newZ2bins+1))**.5\n",
    "\n",
    "    hbins_total, rbinsW = sts.makehistogram(\\\n",
    "                                 nsegments,nx1list,nx2list,ny1list,ny2list,dx,dy,solution,\\\n",
    "                                 accumlist, newrbins)"
   ]
  },
  {
   "cell_type": "code",
   "execution_count": null,
   "metadata": {},
   "outputs": [],
   "source": [
    "# Analysis of this histogram\n",
    "if (IwantZ2intervals):\n",
    "\n",
    "    # Do some fixing\n",
    "    ikeep = np.nonzero(hbins_total)\n",
    "    Z2keep = newZ2bins[ikeep]; #print(Z2keep)\n",
    "    logrhoZ2 = np.log(hbins_total[ikeep]); #print(logrhoZ2)\n",
    "    \n",
    "    # Graph the Z^2 PDF\n",
    "    plt.figure()\n",
    "    plt.plot(Z2keep,logrhoZ2,'ob',markersize=10, label='obs')\n",
    "\n",
    "    # Do some polyfitting\n",
    "    thisrange = [i for i in range(0,8)]\n",
    "    p1 = np.polyfit(Z2keep[thisrange],logrhoZ2[thisrange],1)\n",
    "    best_sigma1 = 1/np.sqrt(-p1[0])\n",
    "    print(p1,'predicted sigma1 = ', best_sigma1)\n",
    "    label_sigma1 = '$\\sigma_1$='+str(np.round(best_sigma1*100)/100) \n",
    "    plt.plot(Z2keep,np.polyval(p1,Z2keep),'g', label=label_sigma1)\n",
    "    \n",
    "#     n = len(Z2keep)\n",
    "#     thisrange = [i for i in range(n-15,n)]\n",
    "#     p2 = np.polyfit(Z2keep[thisrange],logrhoZ2[thisrange],1)\n",
    "#     best_sigma2 = 1/np.sqrt(-p2[0])\n",
    "#     print(p2,'predicted sigma2 = ', best_sigma2)\n",
    "#     label_sigma2 = '$\\sigma_2$='+str(np.round(best_sigma2*100)/100) \n",
    "#     plt.plot(Z2keep,np.polyval(p2,Z2keep),'m', label=label_sigma2)\n",
    "        \n",
    "    # Annotate\n",
    "    plt.grid(True)\n",
    "#     plt.xlim([-.005,.06])\n",
    "#     plt.ylim([-8,-1])\n",
    "    plt.xlabel('$Z^2$')\n",
    "    plt.ylabel(r'$ln(\\rho)$')\n",
    "    plt.title(case,fontsize=fontsize)\n",
    "    plt.legend()\n",
    "\n",
    "    # Save\n",
    "    np.savetxt(RoughnessZ2datafile,np.transpose([Z2keep,logrhoZ2]))\n",
    "    plt.savefig(RoughnessZ2file)\n",
    "\n",
    "    # Reporting\n",
    "    meanr1 = sts.sigma2meanr(best_sigma1); theta1 = np.arccos(1-meanr1)*180/np.pi; print('t1=',theta1)\n",
    "    meanr2 = sts.sigma2meanr(best_sigma2); theta2 = np.arccos(1-meanr2)*180/np.pi; print('t2=',theta2)\n",
    "#     for i in range(len(newrbins)):\n",
    "#         print(i,newZ2bins[i],newrbins[i])\n",
    "    "
   ]
  },
  {
   "cell_type": "code",
   "execution_count": null,
   "metadata": {},
   "outputs": [],
   "source": [
    "Z2 = .09; print(Z2)\n",
    "r = 1-(1/(Z2+1))**.5; print(r)\n",
    "theta = np.arccos(1-r)*180/np.pi; print(theta)"
   ]
  },
  {
   "cell_type": "code",
   "execution_count": null,
   "metadata": {},
   "outputs": [],
   "source": []
  }
 ],
 "metadata": {
  "kernelspec": {
   "display_name": "Python 3",
   "language": "python",
   "name": "python3"
  },
  "language_info": {
   "codemirror_mode": {
    "name": "ipython",
    "version": 3
   },
   "file_extension": ".py",
   "mimetype": "text/x-python",
   "name": "python",
   "nbconvert_exporter": "python",
   "pygments_lexer": "ipython3",
   "version": "3.6.4"
  }
 },
 "nbformat": 4,
 "nbformat_minor": 1
}
