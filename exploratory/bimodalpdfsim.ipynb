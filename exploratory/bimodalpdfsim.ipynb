{
 "cells": [
  {
   "cell_type": "markdown",
   "metadata": {},
   "source": [
    "This code is exploring the construction of a bimodal (two-Gaussian) pdf"
   ]
  },
  {
   "cell_type": "code",
   "execution_count": null,
   "metadata": {},
   "outputs": [],
   "source": [
    "# Generic imports\n",
    "import numpy as np\n",
    "import matplotlib.pyplot as plt"
   ]
  },
  {
   "cell_type": "code",
   "execution_count": null,
   "metadata": {},
   "outputs": [],
   "source": [
    "# Graphics\n",
    "%matplotlib notebook"
   ]
  },
  {
   "cell_type": "code",
   "execution_count": null,
   "metadata": {},
   "outputs": [],
   "source": [
    "# Here's a Weibull function\n",
    "def pWeibull(r, sigma, eta):\n",
    "    ''' Weibull function '''\n",
    "    from numpy import exp\n",
    "    mu = 1-r\n",
    "    ret = 2*eta/sigma**2/mu**3 * \\\n",
    "        (((mu**(-2)-1)/sigma**2)**(eta-1)) * \\\n",
    "        exp(-((mu**(-2)-1)/sigma**2)**eta)\n",
    "    return ret"
   ]
  },
  {
   "cell_type": "code",
   "execution_count": null,
   "metadata": {},
   "outputs": [],
   "source": [
    "# Lay out a range of r-values we want to evaluate the PDF at\n",
    "rminforhist = 1e-6\n",
    "rmaxforhist = 1.1\n",
    "numforhist = 100\n",
    "rvals=np.geomspace(rminforhist,rmaxforhist,numforhist)\n",
    "xvals = np.log(rvals)"
   ]
  },
  {
   "cell_type": "markdown",
   "metadata": {},
   "source": [
    "Getting a Gaussian PDF"
   ]
  },
  {
   "cell_type": "code",
   "execution_count": null,
   "metadata": {},
   "outputs": [],
   "source": [
    "# Specify parameters\n",
    "eta1 = 1.0\n",
    "sigma1 = 0.1\n",
    "\n",
    "# Calculate the PDF\n",
    "pdf1 = rvals*pWeibull(rvals, sigma1, eta1)\n",
    "\n",
    "# Plot it\n",
    "plt.figure()\n",
    "plt.semilogx(rvals,pdf1,'k-',label=r'$\\sigma=$'+str(sigma1))\n",
    "plt.xlabel('r')\n",
    "plt.ylabel('PDF')\n",
    "plt.grid(True)\n",
    "plt.legend()\n",
    "\n",
    "# Testing the normalization\n",
    "numerical_integral = -np.trapz(xvals,pdf1); print ('Area =', numerical_integral)"
   ]
  },
  {
   "cell_type": "markdown",
   "metadata": {},
   "source": [
    "Getting another Gaussian PDF"
   ]
  },
  {
   "cell_type": "code",
   "execution_count": null,
   "metadata": {},
   "outputs": [],
   "source": [
    "# Specify parameters (different from previous)\n",
    "\n",
    "# Calculate the PDF\n",
    "\n",
    "# Plot it\n",
    "\n",
    "# Testing the normalization\n"
   ]
  },
  {
   "cell_type": "markdown",
   "metadata": {},
   "source": [
    "Getting the weighted sum of these two Gaussian PDFs"
   ]
  },
  {
   "cell_type": "code",
   "execution_count": null,
   "metadata": {},
   "outputs": [],
   "source": [
    "# Add the PDFs to make a new combination \n",
    "\n",
    "# Plot the combined PDF\n"
   ]
  }
 ],
 "metadata": {
  "kernelspec": {
   "display_name": "Python 3",
   "language": "python",
   "name": "python3"
  },
  "language_info": {
   "codemirror_mode": {
    "name": "ipython",
    "version": 3
   },
   "file_extension": ".py",
   "mimetype": "text/x-python",
   "name": "python",
   "nbconvert_exporter": "python",
   "pygments_lexer": "ipython3",
   "version": "3.6.4"
  }
 },
 "nbformat": 4,
 "nbformat_minor": 2
}
